{
 "cells": [
  {
   "cell_type": "code",
   "execution_count": 18,
   "metadata": {},
   "outputs": [],
   "source": [
    "import pandas as pd\n",
    "import matplotlib.pyplot as plt"
   ]
  },
  {
   "cell_type": "markdown",
   "metadata": {},
   "source": [
    "## Splitting Dataset\n",
    "\n",
    "Splitting the dataset to `train` and `test`, which equal distribution of gender in each set. Further EDA and training will be constructed on the `train` before testing."
   ]
  },
  {
   "cell_type": "code",
   "execution_count": null,
   "metadata": {},
   "outputs": [],
   "source": [
    "df = pd.read_csv(\"./dataset/participants.tsv\", sep=\"\\t\")"
   ]
  },
  {
   "cell_type": "code",
   "execution_count": 30,
   "metadata": {},
   "outputs": [],
   "source": [
    "def stratified_split(group):\n",
    "    males = group[group[\"Gender\"] == \"M\"].sample(frac=1, random_state=42)  # Shuffle\n",
    "    females = group[group[\"Gender\"] == \"F\"].sample(frac=1, random_state=42)  # Shuffle\n",
    "\n",
    "    num_males_train = int(len(males) * 0.8)\n",
    "    num_females_train = int(len(females) * 0.8)\n",
    "\n",
    "    males[\"Set\"] = [\"Train\"] * num_males_train + [\"Test\"] * (len(males) - num_males_train)\n",
    "    females[\"Set\"] = [\"Train\"] * num_females_train + [\"Test\"] * (len(females) - num_females_train)\n",
    "\n",
    "    return pd.concat([males, females])"
   ]
  },
  {
   "cell_type": "code",
   "execution_count": null,
   "metadata": {},
   "outputs": [],
   "source": [
    "df_A = df[df[\"Group\"] == \"A\"]\n",
    "df_C = df[df[\"Group\"] == \"C\"]\n",
    "df_F = df[df[\"Group\"] == \"F\"]\n",
    "\n",
    "df_A = stratified_split(df_A)\n",
    "df_C = stratified_split(df_C)\n",
    "df_F = stratified_split(df_F)\n",
    "\n",
    "df = pd.concat([df_A, df_C, df_F], ignore_index=True)"
   ]
  },
  {
   "cell_type": "code",
   "execution_count": 34,
   "metadata": {},
   "outputs": [],
   "source": [
    "df.to_csv(\"./dataset/participants.tsv\", sep=\"\\t\")"
   ]
  }
 ],
 "metadata": {
  "kernelspec": {
   "display_name": "Python 3",
   "language": "python",
   "name": "python3"
  },
  "language_info": {
   "codemirror_mode": {
    "name": "ipython",
    "version": 3
   },
   "file_extension": ".py",
   "mimetype": "text/x-python",
   "name": "python",
   "nbconvert_exporter": "python",
   "pygments_lexer": "ipython3",
   "version": "3.12.2"
  }
 },
 "nbformat": 4,
 "nbformat_minor": 2
}
